{
 "cells": [
  {
   "cell_type": "markdown",
   "metadata": {},
   "source": [
    "# Packages"
   ]
  },
  {
   "cell_type": "code",
   "execution_count": 179,
   "metadata": {},
   "outputs": [],
   "source": [
    "# data\n",
    "import numpy as np\n",
    "import pandas as pd\n",
    "\n",
    "# plotting\n",
    "import seaborn as sns\n",
    "import matplotlib.pyplot as plt\n",
    "\n",
    "# machine learning\n",
    "from sklearn import model_selection, preprocessing, metrics\n",
    "from sklearn.metrics import accuracy_score\n",
    "from sklearn.linear_model import LinearRegression"
   ]
  },
  {
   "cell_type": "markdown",
   "metadata": {},
   "source": [
    "# Read In Data"
   ]
  },
  {
   "cell_type": "code",
   "execution_count": 180,
   "metadata": {},
   "outputs": [],
   "source": [
    "data = pd.read_csv('indie_alt_music_data.csv')"
   ]
  },
  {
   "cell_type": "code",
   "execution_count": 181,
   "metadata": {},
   "outputs": [
    {
     "data": {
      "text/html": [
       "<div>\n",
       "<style scoped>\n",
       "    .dataframe tbody tr th:only-of-type {\n",
       "        vertical-align: middle;\n",
       "    }\n",
       "\n",
       "    .dataframe tbody tr th {\n",
       "        vertical-align: top;\n",
       "    }\n",
       "\n",
       "    .dataframe thead th {\n",
       "        text-align: right;\n",
       "    }\n",
       "</style>\n",
       "<table border=\"1\" class=\"dataframe\">\n",
       "  <thead>\n",
       "    <tr style=\"text-align: right;\">\n",
       "      <th></th>\n",
       "      <th>Artist Name</th>\n",
       "      <th>Track Name</th>\n",
       "      <th>Popularity</th>\n",
       "      <th>Genres</th>\n",
       "      <th>Playlist</th>\n",
       "      <th>danceability</th>\n",
       "      <th>energy</th>\n",
       "      <th>key</th>\n",
       "      <th>loudness</th>\n",
       "      <th>mode</th>\n",
       "      <th>...</th>\n",
       "      <th>instrumentalness</th>\n",
       "      <th>liveness</th>\n",
       "      <th>valence</th>\n",
       "      <th>tempo</th>\n",
       "      <th>id</th>\n",
       "      <th>uri</th>\n",
       "      <th>track_href</th>\n",
       "      <th>analysis_url</th>\n",
       "      <th>duration_ms</th>\n",
       "      <th>time_signature</th>\n",
       "    </tr>\n",
       "  </thead>\n",
       "  <tbody>\n",
       "    <tr>\n",
       "      <th>0</th>\n",
       "      <td>James</td>\n",
       "      <td>Laid</td>\n",
       "      <td>66</td>\n",
       "      <td>['britpop', 'madchester', 'new wave', 'new wav...</td>\n",
       "      <td>Alternative 90s</td>\n",
       "      <td>0.457</td>\n",
       "      <td>0.909</td>\n",
       "      <td>0</td>\n",
       "      <td>-9.451</td>\n",
       "      <td>1</td>\n",
       "      <td>...</td>\n",
       "      <td>0.000276</td>\n",
       "      <td>0.1350</td>\n",
       "      <td>0.755</td>\n",
       "      <td>115.998</td>\n",
       "      <td>2CdS3DRqWR5LAhy4hM5X9W</td>\n",
       "      <td>spotify:track:2CdS3DRqWR5LAhy4hM5X9W</td>\n",
       "      <td>https://api.spotify.com/v1/tracks/2CdS3DRqWR5L...</td>\n",
       "      <td>https://api.spotify.com/v1/audio-analysis/2CdS...</td>\n",
       "      <td>156667</td>\n",
       "      <td>4</td>\n",
       "    </tr>\n",
       "    <tr>\n",
       "      <th>1</th>\n",
       "      <td>tøm hughes</td>\n",
       "      <td>obvious</td>\n",
       "      <td>30</td>\n",
       "      <td>[]</td>\n",
       "      <td>Lo-fi Indie</td>\n",
       "      <td>0.626</td>\n",
       "      <td>0.287</td>\n",
       "      <td>5</td>\n",
       "      <td>-19.453</td>\n",
       "      <td>0</td>\n",
       "      <td>...</td>\n",
       "      <td>0.000000</td>\n",
       "      <td>0.2290</td>\n",
       "      <td>0.268</td>\n",
       "      <td>107.815</td>\n",
       "      <td>4CsSN0KzU3bqhkrA7P3kIw</td>\n",
       "      <td>spotify:track:4CsSN0KzU3bqhkrA7P3kIw</td>\n",
       "      <td>https://api.spotify.com/v1/tracks/4CsSN0KzU3bq...</td>\n",
       "      <td>https://api.spotify.com/v1/audio-analysis/4CsS...</td>\n",
       "      <td>189239</td>\n",
       "      <td>4</td>\n",
       "    </tr>\n",
       "    <tr>\n",
       "      <th>2</th>\n",
       "      <td>Amnesia Scanner</td>\n",
       "      <td>AS Too Wrong</td>\n",
       "      <td>38</td>\n",
       "      <td>['art pop', 'deconstructed club', 'escape room...</td>\n",
       "      <td>Terra Incognita</td>\n",
       "      <td>0.568</td>\n",
       "      <td>0.815</td>\n",
       "      <td>2</td>\n",
       "      <td>-5.798</td>\n",
       "      <td>1</td>\n",
       "      <td>...</td>\n",
       "      <td>0.021200</td>\n",
       "      <td>0.3540</td>\n",
       "      <td>0.134</td>\n",
       "      <td>102.023</td>\n",
       "      <td>0rCbNEFbEJPWffx6BmRH9Z</td>\n",
       "      <td>spotify:track:0rCbNEFbEJPWffx6BmRH9Z</td>\n",
       "      <td>https://api.spotify.com/v1/tracks/0rCbNEFbEJPW...</td>\n",
       "      <td>https://api.spotify.com/v1/audio-analysis/0rCb...</td>\n",
       "      <td>254500</td>\n",
       "      <td>4</td>\n",
       "    </tr>\n",
       "    <tr>\n",
       "      <th>3</th>\n",
       "      <td>Lisel</td>\n",
       "      <td>In the Dome</td>\n",
       "      <td>13</td>\n",
       "      <td>[]</td>\n",
       "      <td>Ambiente</td>\n",
       "      <td>0.317</td>\n",
       "      <td>0.479</td>\n",
       "      <td>2</td>\n",
       "      <td>-10.785</td>\n",
       "      <td>1</td>\n",
       "      <td>...</td>\n",
       "      <td>0.543000</td>\n",
       "      <td>0.0978</td>\n",
       "      <td>0.112</td>\n",
       "      <td>88.383</td>\n",
       "      <td>1WUXUrTgHIYK2F2pb5bvS7</td>\n",
       "      <td>spotify:track:1WUXUrTgHIYK2F2pb5bvS7</td>\n",
       "      <td>https://api.spotify.com/v1/tracks/1WUXUrTgHIYK...</td>\n",
       "      <td>https://api.spotify.com/v1/audio-analysis/1WUX...</td>\n",
       "      <td>176695</td>\n",
       "      <td>4</td>\n",
       "    </tr>\n",
       "    <tr>\n",
       "      <th>4</th>\n",
       "      <td>beabadoobee</td>\n",
       "      <td>Worth It</td>\n",
       "      <td>51</td>\n",
       "      <td>['bedroom pop', 'bubblegrunge', 'indie pop']</td>\n",
       "      <td>Women of Indie</td>\n",
       "      <td>0.576</td>\n",
       "      <td>0.751</td>\n",
       "      <td>2</td>\n",
       "      <td>-5.256</td>\n",
       "      <td>1</td>\n",
       "      <td>...</td>\n",
       "      <td>0.000459</td>\n",
       "      <td>0.0501</td>\n",
       "      <td>0.380</td>\n",
       "      <td>103.009</td>\n",
       "      <td>3r1qdSsvJEwiMKHeCWapMM</td>\n",
       "      <td>spotify:track:3r1qdSsvJEwiMKHeCWapMM</td>\n",
       "      <td>https://api.spotify.com/v1/tracks/3r1qdSsvJEwi...</td>\n",
       "      <td>https://api.spotify.com/v1/audio-analysis/3r1q...</td>\n",
       "      <td>194173</td>\n",
       "      <td>4</td>\n",
       "    </tr>\n",
       "  </tbody>\n",
       "</table>\n",
       "<p>5 rows × 22 columns</p>\n",
       "</div>"
      ],
      "text/plain": [
       "       Artist Name    Track Name  Popularity  \\\n",
       "0            James          Laid          66   \n",
       "1       tøm hughes       obvious          30   \n",
       "2  Amnesia Scanner  AS Too Wrong          38   \n",
       "3            Lisel   In the Dome          13   \n",
       "4      beabadoobee      Worth It          51   \n",
       "\n",
       "                                              Genres         Playlist  \\\n",
       "0  ['britpop', 'madchester', 'new wave', 'new wav...  Alternative 90s   \n",
       "1                                                 []      Lo-fi Indie   \n",
       "2  ['art pop', 'deconstructed club', 'escape room...  Terra Incognita   \n",
       "3                                                 []         Ambiente   \n",
       "4       ['bedroom pop', 'bubblegrunge', 'indie pop']   Women of Indie   \n",
       "\n",
       "   danceability  energy  key  loudness  mode  ...  instrumentalness  liveness  \\\n",
       "0         0.457   0.909    0    -9.451     1  ...          0.000276    0.1350   \n",
       "1         0.626   0.287    5   -19.453     0  ...          0.000000    0.2290   \n",
       "2         0.568   0.815    2    -5.798     1  ...          0.021200    0.3540   \n",
       "3         0.317   0.479    2   -10.785     1  ...          0.543000    0.0978   \n",
       "4         0.576   0.751    2    -5.256     1  ...          0.000459    0.0501   \n",
       "\n",
       "   valence    tempo                      id  \\\n",
       "0    0.755  115.998  2CdS3DRqWR5LAhy4hM5X9W   \n",
       "1    0.268  107.815  4CsSN0KzU3bqhkrA7P3kIw   \n",
       "2    0.134  102.023  0rCbNEFbEJPWffx6BmRH9Z   \n",
       "3    0.112   88.383  1WUXUrTgHIYK2F2pb5bvS7   \n",
       "4    0.380  103.009  3r1qdSsvJEwiMKHeCWapMM   \n",
       "\n",
       "                                    uri  \\\n",
       "0  spotify:track:2CdS3DRqWR5LAhy4hM5X9W   \n",
       "1  spotify:track:4CsSN0KzU3bqhkrA7P3kIw   \n",
       "2  spotify:track:0rCbNEFbEJPWffx6BmRH9Z   \n",
       "3  spotify:track:1WUXUrTgHIYK2F2pb5bvS7   \n",
       "4  spotify:track:3r1qdSsvJEwiMKHeCWapMM   \n",
       "\n",
       "                                          track_href  \\\n",
       "0  https://api.spotify.com/v1/tracks/2CdS3DRqWR5L...   \n",
       "1  https://api.spotify.com/v1/tracks/4CsSN0KzU3bq...   \n",
       "2  https://api.spotify.com/v1/tracks/0rCbNEFbEJPW...   \n",
       "3  https://api.spotify.com/v1/tracks/1WUXUrTgHIYK...   \n",
       "4  https://api.spotify.com/v1/tracks/3r1qdSsvJEwi...   \n",
       "\n",
       "                                        analysis_url duration_ms  \\\n",
       "0  https://api.spotify.com/v1/audio-analysis/2CdS...      156667   \n",
       "1  https://api.spotify.com/v1/audio-analysis/4CsS...      189239   \n",
       "2  https://api.spotify.com/v1/audio-analysis/0rCb...      254500   \n",
       "3  https://api.spotify.com/v1/audio-analysis/1WUX...      176695   \n",
       "4  https://api.spotify.com/v1/audio-analysis/3r1q...      194173   \n",
       "\n",
       "  time_signature  \n",
       "0              4  \n",
       "1              4  \n",
       "2              4  \n",
       "3              4  \n",
       "4              4  \n",
       "\n",
       "[5 rows x 22 columns]"
      ]
     },
     "execution_count": 181,
     "metadata": {},
     "output_type": "execute_result"
    }
   ],
   "source": [
    "data.head()"
   ]
  },
  {
   "cell_type": "code",
   "execution_count": 182,
   "metadata": {},
   "outputs": [
    {
     "data": {
      "text/plain": [
       "Artist Name                                                     James\n",
       "Track Name                                                       Laid\n",
       "Popularity                                                         66\n",
       "Genres              ['britpop', 'madchester', 'new wave', 'new wav...\n",
       "Playlist                                              Alternative 90s\n",
       "danceability                                                    0.457\n",
       "energy                                                          0.909\n",
       "key                                                                 0\n",
       "loudness                                                       -9.451\n",
       "mode                                                                1\n",
       "speechiness                                                    0.0317\n",
       "acousticness                                                   0.0016\n",
       "instrumentalness                                             0.000276\n",
       "liveness                                                        0.135\n",
       "valence                                                         0.755\n",
       "tempo                                                         115.998\n",
       "id                                             2CdS3DRqWR5LAhy4hM5X9W\n",
       "uri                              spotify:track:2CdS3DRqWR5LAhy4hM5X9W\n",
       "track_href          https://api.spotify.com/v1/tracks/2CdS3DRqWR5L...\n",
       "analysis_url        https://api.spotify.com/v1/audio-analysis/2CdS...\n",
       "duration_ms                                                    156667\n",
       "time_signature                                                      4\n",
       "Name: 0, dtype: object"
      ]
     },
     "execution_count": 182,
     "metadata": {},
     "output_type": "execute_result"
    }
   ],
   "source": [
    "data.loc[0]"
   ]
  },
  {
   "cell_type": "markdown",
   "metadata": {},
   "source": [
    "# Motivation"
   ]
  },
  {
   "cell_type": "markdown",
   "metadata": {},
   "source": [
    "The motivation for this mini-project is to find the ideal set of parameters that maximizes the popularity of a track in a given genre. We will begin with data from the indie_alt_music dataset, and then we will expand to analyze the rest of the provided genre datasets."
   ]
  },
  {
   "cell_type": "markdown",
   "metadata": {},
   "source": [
    "Above, we can see the layout of the dataset, as well as an example of all the data provided in a single example row. Naturally, we will omit extra information before processing the data."
   ]
  },
  {
   "cell_type": "markdown",
   "metadata": {},
   "source": [
    "# Cleaning the Data"
   ]
  },
  {
   "cell_type": "code",
   "execution_count": 183,
   "metadata": {},
   "outputs": [],
   "source": [
    "drop_these_columns = ['Artist Name',\n",
    "                     'Track Name',\n",
    "                     'Genres',\n",
    "                     'Playlist',\n",
    "                     'mode',\n",
    "                     'id',\n",
    "                     'uri',\n",
    "                     'track_href',\n",
    "                     'analysis_url']\n",
    "\n",
    "data.drop(drop_these_columns, inplace=True, axis=1)"
   ]
  },
  {
   "cell_type": "code",
   "execution_count": 184,
   "metadata": {},
   "outputs": [
    {
     "data": {
      "text/html": [
       "<div>\n",
       "<style scoped>\n",
       "    .dataframe tbody tr th:only-of-type {\n",
       "        vertical-align: middle;\n",
       "    }\n",
       "\n",
       "    .dataframe tbody tr th {\n",
       "        vertical-align: top;\n",
       "    }\n",
       "\n",
       "    .dataframe thead th {\n",
       "        text-align: right;\n",
       "    }\n",
       "</style>\n",
       "<table border=\"1\" class=\"dataframe\">\n",
       "  <thead>\n",
       "    <tr style=\"text-align: right;\">\n",
       "      <th></th>\n",
       "      <th>Popularity</th>\n",
       "      <th>danceability</th>\n",
       "      <th>energy</th>\n",
       "      <th>key</th>\n",
       "      <th>loudness</th>\n",
       "      <th>speechiness</th>\n",
       "      <th>acousticness</th>\n",
       "      <th>instrumentalness</th>\n",
       "      <th>liveness</th>\n",
       "      <th>valence</th>\n",
       "      <th>tempo</th>\n",
       "      <th>duration_ms</th>\n",
       "      <th>time_signature</th>\n",
       "    </tr>\n",
       "  </thead>\n",
       "  <tbody>\n",
       "    <tr>\n",
       "      <th>0</th>\n",
       "      <td>66</td>\n",
       "      <td>0.457</td>\n",
       "      <td>0.909</td>\n",
       "      <td>0</td>\n",
       "      <td>-9.451</td>\n",
       "      <td>0.0317</td>\n",
       "      <td>0.00160</td>\n",
       "      <td>0.000276</td>\n",
       "      <td>0.1350</td>\n",
       "      <td>0.755</td>\n",
       "      <td>115.998</td>\n",
       "      <td>156667</td>\n",
       "      <td>4</td>\n",
       "    </tr>\n",
       "    <tr>\n",
       "      <th>1</th>\n",
       "      <td>30</td>\n",
       "      <td>0.626</td>\n",
       "      <td>0.287</td>\n",
       "      <td>5</td>\n",
       "      <td>-19.453</td>\n",
       "      <td>0.4150</td>\n",
       "      <td>0.89800</td>\n",
       "      <td>0.000000</td>\n",
       "      <td>0.2290</td>\n",
       "      <td>0.268</td>\n",
       "      <td>107.815</td>\n",
       "      <td>189239</td>\n",
       "      <td>4</td>\n",
       "    </tr>\n",
       "    <tr>\n",
       "      <th>2</th>\n",
       "      <td>38</td>\n",
       "      <td>0.568</td>\n",
       "      <td>0.815</td>\n",
       "      <td>2</td>\n",
       "      <td>-5.798</td>\n",
       "      <td>0.0528</td>\n",
       "      <td>0.00555</td>\n",
       "      <td>0.021200</td>\n",
       "      <td>0.3540</td>\n",
       "      <td>0.134</td>\n",
       "      <td>102.023</td>\n",
       "      <td>254500</td>\n",
       "      <td>4</td>\n",
       "    </tr>\n",
       "    <tr>\n",
       "      <th>3</th>\n",
       "      <td>13</td>\n",
       "      <td>0.317</td>\n",
       "      <td>0.479</td>\n",
       "      <td>2</td>\n",
       "      <td>-10.785</td>\n",
       "      <td>0.0341</td>\n",
       "      <td>0.83500</td>\n",
       "      <td>0.543000</td>\n",
       "      <td>0.0978</td>\n",
       "      <td>0.112</td>\n",
       "      <td>88.383</td>\n",
       "      <td>176695</td>\n",
       "      <td>4</td>\n",
       "    </tr>\n",
       "    <tr>\n",
       "      <th>4</th>\n",
       "      <td>51</td>\n",
       "      <td>0.576</td>\n",
       "      <td>0.751</td>\n",
       "      <td>2</td>\n",
       "      <td>-5.256</td>\n",
       "      <td>0.0269</td>\n",
       "      <td>0.01250</td>\n",
       "      <td>0.000459</td>\n",
       "      <td>0.0501</td>\n",
       "      <td>0.380</td>\n",
       "      <td>103.009</td>\n",
       "      <td>194173</td>\n",
       "      <td>4</td>\n",
       "    </tr>\n",
       "  </tbody>\n",
       "</table>\n",
       "</div>"
      ],
      "text/plain": [
       "   Popularity  danceability  energy  key  loudness  speechiness  acousticness  \\\n",
       "0          66         0.457   0.909    0    -9.451       0.0317       0.00160   \n",
       "1          30         0.626   0.287    5   -19.453       0.4150       0.89800   \n",
       "2          38         0.568   0.815    2    -5.798       0.0528       0.00555   \n",
       "3          13         0.317   0.479    2   -10.785       0.0341       0.83500   \n",
       "4          51         0.576   0.751    2    -5.256       0.0269       0.01250   \n",
       "\n",
       "   instrumentalness  liveness  valence    tempo  duration_ms  time_signature  \n",
       "0          0.000276    0.1350    0.755  115.998       156667               4  \n",
       "1          0.000000    0.2290    0.268  107.815       189239               4  \n",
       "2          0.021200    0.3540    0.134  102.023       254500               4  \n",
       "3          0.543000    0.0978    0.112   88.383       176695               4  \n",
       "4          0.000459    0.0501    0.380  103.009       194173               4  "
      ]
     },
     "execution_count": 184,
     "metadata": {},
     "output_type": "execute_result"
    }
   ],
   "source": [
    "# we've dropped all columns that aren't of a numerical dtype or aren't essential to our analysis\n",
    "data.head()"
   ]
  },
  {
   "cell_type": "code",
   "execution_count": 185,
   "metadata": {},
   "outputs": [
    {
     "data": {
      "text/plain": [
       "Popularity          0\n",
       "danceability        0\n",
       "energy              0\n",
       "key                 0\n",
       "loudness            0\n",
       "speechiness         0\n",
       "acousticness        0\n",
       "instrumentalness    0\n",
       "liveness            0\n",
       "valence             0\n",
       "tempo               0\n",
       "duration_ms         0\n",
       "time_signature      0\n",
       "dtype: int64"
      ]
     },
     "execution_count": 185,
     "metadata": {},
     "output_type": "execute_result"
    }
   ],
   "source": [
    "data.isnull().sum()"
   ]
  },
  {
   "cell_type": "markdown",
   "metadata": {},
   "source": [
    "We can see the data doesn't contain any null values and we can omit this step."
   ]
  },
  {
   "cell_type": "markdown",
   "metadata": {},
   "source": [
    "# Splitting the Data"
   ]
  },
  {
   "cell_type": "code",
   "execution_count": 186,
   "metadata": {},
   "outputs": [],
   "source": [
    "df_train, df_test = model_selection.train_test_split(data, test_size=0.2)"
   ]
  },
  {
   "cell_type": "markdown",
   "metadata": {},
   "source": [
    "# Scaling the Features and Target Variable"
   ]
  },
  {
   "cell_type": "code",
   "execution_count": 187,
   "metadata": {},
   "outputs": [],
   "source": [
    "# scaling the feature variables\n",
    "train_feature_scaler = preprocessing.RobustScaler(quantile_range=(25.0,75.0))\n",
    "\n",
    "x_train_data = train_feature_scaler.fit_transform(df_train.drop('Popularity',axis=1))\n",
    "df_train_scaled = pd.DataFrame(x_train_data, columns=df_train.drop('Popularity',axis=1).columns, index=df_train.index)\n",
    "\n",
    "# scaling the target variables\n",
    "train_target_scaler = preprocessing.RobustScaler(quantile_range=(25.0,75.0))\n",
    "\n",
    "df_train_scaled['Popularity'] = train_target_scaler.fit_transform(df_train['Popularity'].values.reshape(-1,1))"
   ]
  },
  {
   "cell_type": "code",
   "execution_count": 188,
   "metadata": {},
   "outputs": [],
   "source": [
    "# scaling the feature variables for test data\n",
    "test_feature_scaler = preprocessing.RobustScaler(quantile_range=(25.0,75.0))\n",
    "\n",
    "x_test_data = test_feature_scaler.fit_transform(df_test.drop('Popularity',axis=1))\n",
    "df_test_scaled = pd.DataFrame(x_test_data, columns=df_test.drop('Popularity',axis=1).columns, index=df_test.index)\n",
    "\n",
    "# scaling the target variables for test data\n",
    "test_target_scaler = preprocessing.RobustScaler(quantile_range=(25.0,75.0))\n",
    "\n",
    "df_test_scaled['Popularity'] = test_target_scaler.fit_transform(df_test['Popularity'].values.reshape(-1,1))"
   ]
  },
  {
   "cell_type": "code",
   "execution_count": 189,
   "metadata": {},
   "outputs": [
    {
     "data": {
      "text/html": [
       "<div>\n",
       "<style scoped>\n",
       "    .dataframe tbody tr th:only-of-type {\n",
       "        vertical-align: middle;\n",
       "    }\n",
       "\n",
       "    .dataframe tbody tr th {\n",
       "        vertical-align: top;\n",
       "    }\n",
       "\n",
       "    .dataframe thead th {\n",
       "        text-align: right;\n",
       "    }\n",
       "</style>\n",
       "<table border=\"1\" class=\"dataframe\">\n",
       "  <thead>\n",
       "    <tr style=\"text-align: right;\">\n",
       "      <th></th>\n",
       "      <th>danceability</th>\n",
       "      <th>energy</th>\n",
       "      <th>key</th>\n",
       "      <th>loudness</th>\n",
       "      <th>speechiness</th>\n",
       "      <th>acousticness</th>\n",
       "      <th>instrumentalness</th>\n",
       "      <th>liveness</th>\n",
       "      <th>valence</th>\n",
       "      <th>tempo</th>\n",
       "      <th>duration_ms</th>\n",
       "      <th>time_signature</th>\n",
       "      <th>Popularity</th>\n",
       "    </tr>\n",
       "  </thead>\n",
       "  <tbody>\n",
       "    <tr>\n",
       "      <th>4306</th>\n",
       "      <td>-0.094017</td>\n",
       "      <td>0.967638</td>\n",
       "      <td>0.000000</td>\n",
       "      <td>1.214371</td>\n",
       "      <td>-0.056213</td>\n",
       "      <td>-0.189265</td>\n",
       "      <td>2.435682</td>\n",
       "      <td>1.428571</td>\n",
       "      <td>0.403061</td>\n",
       "      <td>0.216902</td>\n",
       "      <td>0.725868</td>\n",
       "      <td>0.0</td>\n",
       "      <td>-0.458333</td>\n",
       "    </tr>\n",
       "    <tr>\n",
       "      <th>4317</th>\n",
       "      <td>-0.871795</td>\n",
       "      <td>0.786408</td>\n",
       "      <td>0.000000</td>\n",
       "      <td>1.171434</td>\n",
       "      <td>3.420118</td>\n",
       "      <td>-0.182387</td>\n",
       "      <td>-0.032761</td>\n",
       "      <td>0.565908</td>\n",
       "      <td>-0.137755</td>\n",
       "      <td>1.430646</td>\n",
       "      <td>-1.148540</td>\n",
       "      <td>-1.0</td>\n",
       "      <td>-0.125000</td>\n",
       "    </tr>\n",
       "    <tr>\n",
       "      <th>4224</th>\n",
       "      <td>0.850427</td>\n",
       "      <td>-0.048544</td>\n",
       "      <td>-0.285714</td>\n",
       "      <td>-0.385932</td>\n",
       "      <td>2.710059</td>\n",
       "      <td>0.423714</td>\n",
       "      <td>2.346164</td>\n",
       "      <td>-0.359558</td>\n",
       "      <td>-0.719388</td>\n",
       "      <td>0.001188</td>\n",
       "      <td>0.793871</td>\n",
       "      <td>0.0</td>\n",
       "      <td>0.166667</td>\n",
       "    </tr>\n",
       "    <tr>\n",
       "      <th>2798</th>\n",
       "      <td>-0.709402</td>\n",
       "      <td>0.249191</td>\n",
       "      <td>-0.571429</td>\n",
       "      <td>-0.089158</td>\n",
       "      <td>0.026627</td>\n",
       "      <td>0.827252</td>\n",
       "      <td>2.248509</td>\n",
       "      <td>-0.236025</td>\n",
       "      <td>0.673469</td>\n",
       "      <td>-0.820427</td>\n",
       "      <td>15.562632</td>\n",
       "      <td>0.0</td>\n",
       "      <td>-1.000000</td>\n",
       "    </tr>\n",
       "    <tr>\n",
       "      <th>1053</th>\n",
       "      <td>-0.299145</td>\n",
       "      <td>0.362460</td>\n",
       "      <td>0.571429</td>\n",
       "      <td>-0.076277</td>\n",
       "      <td>-0.272189</td>\n",
       "      <td>0.780124</td>\n",
       "      <td>0.395775</td>\n",
       "      <td>-0.252588</td>\n",
       "      <td>0.403061</td>\n",
       "      <td>-1.294664</td>\n",
       "      <td>-0.562698</td>\n",
       "      <td>0.0</td>\n",
       "      <td>0.958333</td>\n",
       "    </tr>\n",
       "  </tbody>\n",
       "</table>\n",
       "</div>"
      ],
      "text/plain": [
       "      danceability    energy       key  loudness  speechiness  acousticness  \\\n",
       "4306     -0.094017  0.967638  0.000000  1.214371    -0.056213     -0.189265   \n",
       "4317     -0.871795  0.786408  0.000000  1.171434     3.420118     -0.182387   \n",
       "4224      0.850427 -0.048544 -0.285714 -0.385932     2.710059      0.423714   \n",
       "2798     -0.709402  0.249191 -0.571429 -0.089158     0.026627      0.827252   \n",
       "1053     -0.299145  0.362460  0.571429 -0.076277    -0.272189      0.780124   \n",
       "\n",
       "      instrumentalness  liveness   valence     tempo  duration_ms  \\\n",
       "4306          2.435682  1.428571  0.403061  0.216902     0.725868   \n",
       "4317         -0.032761  0.565908 -0.137755  1.430646    -1.148540   \n",
       "4224          2.346164 -0.359558 -0.719388  0.001188     0.793871   \n",
       "2798          2.248509 -0.236025  0.673469 -0.820427    15.562632   \n",
       "1053          0.395775 -0.252588  0.403061 -1.294664    -0.562698   \n",
       "\n",
       "      time_signature  Popularity  \n",
       "4306             0.0   -0.458333  \n",
       "4317            -1.0   -0.125000  \n",
       "4224             0.0    0.166667  \n",
       "2798             0.0   -1.000000  \n",
       "1053             0.0    0.958333  "
      ]
     },
     "execution_count": 189,
     "metadata": {},
     "output_type": "execute_result"
    }
   ],
   "source": [
    "df_scaled.head()"
   ]
  },
  {
   "cell_type": "markdown",
   "metadata": {},
   "source": [
    "Note that popularity has been rescaled to take on values (roughly) between -1 and 1"
   ]
  },
  {
   "cell_type": "markdown",
   "metadata": {},
   "source": [
    "# Check for Collinearity"
   ]
  },
  {
   "cell_type": "code",
   "execution_count": 190,
   "metadata": {},
   "outputs": [
    {
     "data": {
      "image/png": "[encoded data removed]",
      "text/plain": [
       "<Figure size 432x288 with 2 Axes>"
      ]
     },
     "metadata": {
      "needs_background": "light"
     },
     "output_type": "display_data"
    }
   ],
   "source": [
    "corr_matrix = df_train.corr(method='pearson')\n",
    "sns.heatmap(corr_matrix, vmin=-1, vmax=1., fmt='.2f', cbar=True, linewidths=0.5);"
   ]
  },
  {
   "cell_type": "markdown",
   "metadata": {},
   "source": [
    "The parameters 'loudness' and 'energy' are not *strongly* correlated, however, they are much more correlated than the rest of the data it is best to drop one, especially considering that in a general evaluation outside of the data values, one would expect these parameters to be correlated"
   ]
  },
  {
   "cell_type": "code",
   "execution_count": 191,
   "metadata": {},
   "outputs": [],
   "source": [
    "# removing the 'energy' parameter for training\n",
    "updated_df_train = df_train_scaled.drop('energy',axis=1)\n",
    "\n",
    "# removing the 'energy' parameter for test data\n",
    "updated_df_test = df_test_scaled.drop('energy',axis=1)"
   ]
  },
  {
   "cell_type": "code",
   "execution_count": 192,
   "metadata": {},
   "outputs": [],
   "source": [
    "# defining our final training variables\n",
    "x_train = updated_df_train.drop('Popularity',axis=1).values\n",
    "y_train = updated_df_train['Popularity'].values\n",
    "\n",
    "# defining our final testing variables\n",
    "x_test = updated_df_test.drop('Popularity',axis=1).values\n",
    "y_test = updated_df_test['Popularity'].values"
   ]
  },
  {
   "cell_type": "markdown",
   "metadata": {},
   "source": [
    "# Modeling the Pre-Processed Data"
   ]
  },
  {
   "cell_type": "code",
   "execution_count": 210,
   "metadata": {},
   "outputs": [],
   "source": [
    "model = LinearRegression()\n",
    "cv = model_selection.KFold(n_splits=5, shuffle=True)\n",
    "\n",
    "# fitting the training data with the Linear Regression model\n",
    "model.fit(x_train, y_train)\n",
    "\n",
    "# predicting the training data with the unscaled testing data\n",
    "predicted = model.predict(x_test)\n",
    "\n",
    "predicted = train_target_scaler.inverse_transform(predicted.reshape(-1,1)).reshape(-1)"
   ]
  },
  {
   "cell_type": "code",
   "execution_count": 219,
   "metadata": {},
   "outputs": [
    {
     "data": {
      "image/png": "[encoded data removed]",
      "text/plain": [
       "<Figure size 432x288 with 1 Axes>"
      ]
     },
     "metadata": {
      "needs_background": "light"
     },
     "output_type": "display_data"
    }
   ],
   "source": [
    "# setting up the k-fold cross validation\n",
    "scores = []\n",
    "cv = model_selection.KFold(n_splits=8, shuffle=True)\n",
    "fig = plt.figure()\n",
    "i = 1\n",
    "\n",
    "for train, test in cv.split(x_train, y_train):\n",
    "    prediction = model.fit(x_train[train],\n",
    "                 y_train[train]).predict(x_train[test])\n",
    "    \n",
    "    true = y_train[test]\n",
    "    score = metrics.r2_score(true, prediction)\n",
    "    scores.append(score)\n",
    "    plt.scatter(prediction, true, lw=2, alpha=0.3, \n",
    "                label='Fold %d (R2 = %0.2f)' % (i,score))\n",
    "    i = i+1\n",
    "\n",
    "# plotting the data for the k-fold cross validation\n",
    "plt.plot([min(y_train),max(y_train)], [min(y_train),max(y_train)], \n",
    "         linestyle='--', lw=3,)\n",
    "plt.xlabel('Predicted')\n",
    "plt.ylabel('True')\n",
    "plt.title('K-Fold Validation')\n",
    "plt.legend()\n",
    "plt.show()"
   ]
  },
  {
   "cell_type": "code",
   "execution_count": 211,
   "metadata": {},
   "outputs": [],
   "source": [
    "# reshaping y_test\n",
    "y_test_reshaped = train_target_scaler.inverse_transform(y_test.reshape(-1,1)).reshape(-1)"
   ]
  },
  {
   "cell_type": "markdown",
   "metadata": {},
   "source": [
    "# Analysis of the Results"
   ]
  },
  {
   "cell_type": "markdown",
   "metadata": {},
   "source": [
    "As we can see, this program did not do what we initially expected. Since this is a simple model, accuracy is not expected to be high regardless. However, given our data, we can deduce a few things. First, the actual data itself are pre-determined metrics given possibly arbitrary values that cannot be considered to be sufficiently credible data as we do not know how these values were found. For example, while some parameters such as 'tempo' are easy to measure and have validity in actual analysis of music, other paramaters such as 'danceability' lack in credibility as a real measure for a song. Since we intended to analyze multiple genres of music, we would expect to see certain parameters such as this one vary across different genres. Certainly, more popular songs in genres such as our 'pop_music_dataset' have more 'danceability' than popular songs in our 'blues_music' dataset, but exactly how this is measured is beyond the scope of the program."
   ]
  },
  {
   "cell_type": "markdown",
   "metadata": {},
   "source": [
    "# Sources"
   ]
  },
  {
   "cell_type": "markdown",
   "metadata": {},
   "source": [
    "Machine Learning with Python: Regression (complete tutorial): https://towardsdatascience.com/machine-learning-with-python-regression-complete-tutorial-47268e546cea"
   ]
  },
  {
   "cell_type": "markdown",
   "metadata": {},
   "source": [
    "K-Fold Cross-Validation in Python Using SKLearn: https://www.askpython.com/python/examples/k-fold-cross-validation"
   ]
  },
  {
   "cell_type": "markdown",
   "metadata": {},
   "source": [
    "Spotify Multi-Genre Playlists Data: https://www.kaggle.com/siropo/spotify-multigenre-playlists-data?select=indie_alt_music_data.csv"
   ]
  },
  {
   "cell_type": "markdown",
   "metadata": {},
   "source": [
    "sklearn API Reference: https://scikit-learn.org/stable/modules/classes.html#module-sklearn.model_selection"
   ]
  },
  {
   "cell_type": "markdown",
   "metadata": {},
   "source": [
    "sklearn.linear_model.LinearRegression: https://scikit-learn.org/stable/modules/generated/sklearn.linear_model.LinearRegression.html"
   ]
  },
  {
   "cell_type": "markdown",
   "metadata": {},
   "source": [
    "Train-Test Split for Evaluating Machine Learning Algorithms: https://machinelearningmastery.com/train-test-split-for-evaluating-machine-learning-algorithms/"
   ]
  }
 ],
 "metadata": {
  "kernelspec": {
   "display_name": "Python 3",
   "language": "python",
   "name": "python3"
  },
  "language_info": {
   "codemirror_mode": {
    "name": "ipython",
    "version": 3
   },
   "file_extension": ".py",
   "mimetype": "text/x-python",
   "name": "python",
   "nbconvert_exporter": "python",
   "pygments_lexer": "ipython3",
   "version": "3.8.5"
  }
 },
 "nbformat": 4,
 "nbformat_minor": 4
}
